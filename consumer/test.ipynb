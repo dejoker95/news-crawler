{
 "cells": [
  {
   "cell_type": "code",
   "execution_count": 10,
   "metadata": {},
   "outputs": [
    {
     "data": {
      "text/plain": [
       "datetime.datetime(2024, 7, 15, 16, 52, 51, 206073)"
      ]
     },
     "execution_count": 10,
     "metadata": {},
     "output_type": "execute_result"
    }
   ],
   "source": [
    "from datetime import datetime, timedelta\n",
    "\n",
    "datetime.now(tz=\"Asia/Seoul\") - timedelta(hours=24)\n"
   ]
  },
  {
   "cell_type": "code",
   "execution_count": 9,
   "metadata": {},
   "outputs": [
    {
     "name": "stdout",
     "output_type": "stream",
     "text": [
      "Status Code: 200\n",
      "Response Body: {\"id\":1,\"taskName\":\"엔비디아 Task\",\"taskDays\":1,\"status\":\"DONE\",\"createdAt\":\"2024-07-13T07:29:58.094248Z\",\"finishedAt\":\"2024-07-13T16:37:32.183138+09:00\"}\n"
     ]
    }
   ],
   "source": [
    "import requests\n",
    "from enum import Enum\n",
    "\n",
    "class TaskStatus(Enum):\n",
    "    RUNNING = 'RUNNING'\n",
    "    DONE = 'DONE'\n",
    "    FAILED = 'FAILED'\n",
    "url = 'http://localhost:8080/api/taskruns/1/status'\n",
    "headers = {'Content-Type': 'application/json'}\n",
    "response = requests.post(url=url, json={'status': TaskStatus.DONE.value})\n",
    "\n",
    "print(f\"Status Code: {response.status_code}\")\n",
    "print(f\"Response Body: {response.text}\")"
   ]
  },
  {
   "cell_type": "code",
   "execution_count": 1,
   "metadata": {},
   "outputs": [
    {
     "name": "stdout",
     "output_type": "stream",
     "text": [
      "Keyword: 테슬라\tCount: 126\n"
     ]
    }
   ],
   "source": [
    "import os\n",
    "from dotenv import load_dotenv\n",
    "from tools.crawlers import NaverApiCrawler\n",
    "\n",
    "load_dotenv()\n",
    "NAVER_CLIENT_ID = os.getenv('NAVER_CLIENT_ID')\n",
    "NAVER_CLIENT_SECRET = os.getenv('NAVER_CLIENT_SECRET')\n",
    "NAVER_API_ENDPOINT = os.getenv('NAVER_API_ENDPOINT')\n",
    "DAYS = int(os.getenv(\"DAYS\"))\n",
    "SELENIUM_TIMEOUT_SECONDS = int(os.getenv('SELENIUM_TIMEOUT_SECONDS'))\n",
    "\n",
    "keywords = [\"테슬라\"]\n",
    "\n",
    "api_crawler = NaverApiCrawler(NAVER_CLIENT_ID, NAVER_CLIENT_SECRET, NAVER_API_ENDPOINT)\n",
    "\n",
    "articles_by_keyword = {}\n",
    "for keyword in keywords:\n",
    "    articles_by_keyword[keyword] = api_crawler.get_articles(keyword, DAYS)\n",
    "\n",
    "for keyword, value in articles_by_keyword.items():\n",
    "    print(\"Keyword: {}\\tCount: {}\".format(keyword, len(value)))"
   ]
  },
  {
   "cell_type": "code",
   "execution_count": 2,
   "metadata": {},
   "outputs": [],
   "source": [
    "from tools.crawlers import WebCrawler\n",
    "\n",
    "content_crawler = WebCrawler()\n",
    "\n",
    "for keyword, docs in articles_by_keyword.items():\n",
    "    for doc in docs:\n",
    "        doc['title'], doc['description'] = content_crawler.crawl_naver_news(doc['link'], SELENIUM_TIMEOUT_SECONDS)"
   ]
  },
  {
   "cell_type": "code",
   "execution_count": 3,
   "metadata": {},
   "outputs": [
    {
     "name": "stdout",
     "output_type": "stream",
     "text": [
      "126 []\n"
     ]
    }
   ],
   "source": [
    "import datetime\n",
    "from elasticsearch import Elasticsearch, helpers\n",
    "\n",
    "ELASTICSEARCH_ENDPOINT = os.getenv(\"ELASTICSEARCH_ENDPOINT\")\n",
    "ELASTICSEARCH_USER = os.getenv(\"ELASTICSEARCH_USER\")\n",
    "ELASTICSEARCH_PWD = os.getenv(\"ELASTICSEARCH_PWD\")\n",
    "ELASTICSEARCH_INDEX_PREFIX = os.getenv(\"ELASTICSEARCH_INDEX_PREFIX\")\n",
    "\n",
    "\n",
    "es = Elasticsearch(\n",
    "    ELASTICSEARCH_ENDPOINT,\n",
    "    basic_auth=(ELASTICSEARCH_USER, ELASTICSEARCH_PWD)\n",
    ")\n",
    "\n",
    "data = []\n",
    "for keyword, articles in articles_by_keyword.items():\n",
    "    for article in articles:\n",
    "        index_suffix = article['pubDate'].strftime(\"%Y.%m.%d\")\n",
    "        index_name = \"\".join([ELASTICSEARCH_INDEX_PREFIX, index_suffix])\n",
    "        article_id = article[\"id\"]\n",
    "        del article['id']\n",
    "        doc = {\n",
    "            \"_index\": index_name,\n",
    "            \"_id\": article_id,\n",
    "            \"_source\": article\n",
    "        }\n",
    "        data.append(doc)\n",
    "\n",
    "success, failed = helpers.bulk(es, data)\n",
    "print(success, failed)\n"
   ]
  },
  {
   "cell_type": "code",
   "execution_count": 4,
   "metadata": {},
   "outputs": [
    {
     "data": {
      "text/plain": [
       "{'_index': 'articles-2024.07.07',\n",
       " '_id': '3660001002700',\n",
       " '_source': {'title': '진격의 테슬라…서학개미 주식 보관액, 엔비디아 제쳤다',\n",
       "  'originallink': 'https://biz.chosun.com/stock/stock_general/2024/07/07/FBCCANDNMJA75F7HODA76HZOJI/?utm_source=naver&utm_medium=original&utm_campaign=biz',\n",
       "  'link': 'https://n.news.naver.com/mnews/article/366/0001002700?sid=101',\n",
       "  'description': '일론 머스크 테슬라 CEO. /AP연합뉴스\\n\\n테슬라에 베팅한 서학개미(해외 주식에 투자하는 국내 개인 투자자)들이 오랜만에 다시 웃게 됐다. 개인 투자자들의 테슬라 주식 보관액(투자자들이 보유 중인 주식의 평가액)이 3주 만에 엔비디아를 제쳤기 때문이다. 최근 테슬라 주가가 급등하며 250달러를 넘었기 때문인데, 월스트리트에서는 목표주가를 앞다퉈 300달러대로 상향 조정하고 있어 관심이 쏠린다.\\n\\n7일 한국예탁결제원 증권정보 포털 ‘세이브로’에 따르면, 지난 4일 해외 주식 가운데 보관액이 가장 큰 종목은 테슬라였다. 총 146억6985만달러(약 20조2800억원)어치를 보유 중인 것으로 나타났다. 2위는 엔비디아(134억달러·약 18조5500억원), 3위는 애플(49억달러·약 6조8700억원)이었다.\\n\\n테슬라 주식 보관액이 엔비디아를 추월한 것은 지난 2일부터다. 6월 11일 이후 3주 만이었다. 테슬라 주가가 지난달 말부터 급등하고 있는 반면 엔비디아는 박스권에 머물고 있기 때문이다.\\n\\n테슬라 주가는 최근 한 달 간 41% 상승한 것으로 나타났다. 올해 4월 142달러 수준까지 떨어지는 굴욕을 겪기도 했지만, 현재(5일 기준) 251.52달러까지 오른 상태다. 테슬라 주가가 250달러를 넘은 건 작년 12월 28일(253.18달러) 이후 처음이다. 시가총액은 7881억달러(약 1089조원)로 늘었다. 국내 1위인 삼성전자 시총(520조원)의 두 배에 육박하는 규모다.\\n\\n테슬라 주가를 끌어올린 건 올해 2분기 차량 인도(판매) 실적이다. 테슬라는 2분기 인도량이 44만3956대를 기록했다고 지난 2일 발표했는데, 이는 월스트리트 전문가들의 평균 전망치(43만8019대)를 웃도는 규모다. 1분기(38만6810대)보다는 15% 가량 증가했다.\\n\\n그 외에도 테슬라는 2분기에 9.4GWh의 에너지 저장장치 제품을 판매했다고 밝히기도 했다. 역대 최고 분기별 실적이다.\\n\\n테슬라가 2분기 실적을 발표한 후 웨드부시의 댄 아이브스 선임 애널리스트는 목표주가를 275달러에서 300달러로 상향 조정했다. 테슬라 낙관론자로 잘 알려진 아이브스는 “올해 하반기와 내년까지 강력한 성장 스토리가 이어질 것”이라며 “테슬라의 차량 인도량이 몇 분기 안에 연간 200만대를 돌파할 것이며, 주가는 내년에 400달러를 돌파할 것”이라고 전망했다.\\n\\n모건스탠리의 애덤 조나스 애널리스트도 310달러의 목표가를 유지했다. 조나스는 이미 지난 4월 테슬라가 자동차·에너지·인공지능(AI)·로보틱스 회사라며 자동차 사업은 기업가치의 20%만 차지할 뿐이라고 분석한 바 있다.\\n\\n시장에서는 오는 8월 8일로 예정된 테슬라의 ‘로보택시’ 공개를 주시하고 있다. 로보택시는 완전 자율주행 시스템을 탑재한 택시다. 스티어링휠과 페달도 없으며, AI가 스스로 운전 동영상을 보고 학습하도록 했다.\\n\\n반면 올 초부터 서학개미의 매수세가 집중됐던 엔비디아는 지난달 18일 역대 최고가인 135.58달러를 기록하고 글로벌 시총 1위에 오른 후 하락, 120달러대에서 등락하고 있다. 지난 5일 뉴스트리트 리서치의 피에르 페라귀 에널리스트는 엔비디아에 대한 투자의견을 ‘중립’으로 내렸다. 그는 “엔비디아 주가가 더 오르려면 2025년 이후의 실적 전망이 상당히 개선돼야만 하는데, 우리는 아직 이 시나리오에 대해 확신할 수 없는 상황”이라고 분석했다.\\n\\n',\n",
       "  'pubDate': datetime.datetime(2024, 7, 7, 9, 57, tzinfo=datetime.timezone(datetime.timedelta(seconds=32400)))}}"
      ]
     },
     "execution_count": 4,
     "metadata": {},
     "output_type": "execute_result"
    }
   ],
   "source": [
    "\n",
    "data[0]\n"
   ]
  },
  {
   "cell_type": "code",
   "execution_count": 6,
   "metadata": {},
   "outputs": [
    {
     "data": {
      "text/plain": [
       "'idongjuui-MacBookPro.local'"
      ]
     },
     "execution_count": 6,
     "metadata": {},
     "output_type": "execute_result"
    }
   ],
   "source": [
    "os.uname().nodename"
   ]
  },
  {
   "cell_type": "code",
   "execution_count": 8,
   "metadata": {},
   "outputs": [
    {
     "name": "stdout",
     "output_type": "stream",
     "text": [
      "None\n"
     ]
    }
   ],
   "source": [
    "print(os.getenv(\"HOSTNAME\"))"
   ]
  },
  {
   "cell_type": "code",
   "execution_count": null,
   "metadata": {},
   "outputs": [],
   "source": []
  }
 ],
 "metadata": {
  "kernelspec": {
   "display_name": "news",
   "language": "python",
   "name": "python3"
  },
  "language_info": {
   "codemirror_mode": {
    "name": "ipython",
    "version": 3
   },
   "file_extension": ".py",
   "mimetype": "text/x-python",
   "name": "python",
   "nbconvert_exporter": "python",
   "pygments_lexer": "ipython3",
   "version": "3.12.3"
  }
 },
 "nbformat": 4,
 "nbformat_minor": 2
}
