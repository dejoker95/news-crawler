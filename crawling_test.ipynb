{
 "cells": [
  {
   "cell_type": "code",
   "execution_count": 1,
   "metadata": {},
   "outputs": [
    {
     "name": "stdout",
     "output_type": "stream",
     "text": [
      "['메이플', '맥도날드 감자튀김', '말라리아', '에오스블랙', '준틴스데이', '러브버그 해충', '태국 동성결혼', '엔비디아', '리그오브레전드', '63빌딩 아쿠아플라넷', '코리아컵', '문재인', '라이엇', '강민구', '닌텐도 다이렉트', '목동 화재', '이정은', '신들린 연애', '손석희', '돈버는퀴즈 캐시워크 정답']\n"
     ]
    }
   ],
   "source": [
    "from tools.google_trends import get_trends\n",
    "\n",
    "keywords = get_trends('ko', 540, 'south_korea')\n",
    "print(keywords)"
   ]
  },
  {
   "cell_type": "code",
   "execution_count": 2,
   "metadata": {},
   "outputs": [
    {
     "name": "stdout",
     "output_type": "stream",
     "text": [
      "Keyword: 메이플 \t\t Count: 100\n",
      "Keyword: 맥도날드 감자튀김 \t\t Count: 100\n",
      "Keyword: 말라리아 \t\t Count: 100\n",
      "Keyword: 에오스블랙 \t\t Count: 100\n",
      "Keyword: 준틴스데이 \t\t Count: 100\n",
      "Keyword: 러브버그 해충 \t\t Count: 100\n",
      "Keyword: 태국 동성결혼 \t\t Count: 100\n",
      "Keyword: 엔비디아 \t\t Count: 100\n",
      "Keyword: 리그오브레전드 \t\t Count: 100\n",
      "Keyword: 63빌딩 아쿠아플라넷 \t\t Count: 100\n",
      "Keyword: 코리아컵 \t\t Count: 100\n",
      "Keyword: 문재인 \t\t Count: 100\n",
      "Keyword: 라이엇 \t\t Count: 100\n",
      "Keyword: 강민구 \t\t Count: 100\n",
      "Keyword: 닌텐도 다이렉트 \t\t Count: 100\n",
      "Keyword: 목동 화재 \t\t Count: 100\n",
      "Keyword: 이정은 \t\t Count: 100\n",
      "Keyword: 신들린 연애 \t\t Count: 100\n",
      "Keyword: 손석희 \t\t Count: 100\n",
      "Keyword: 돈버는퀴즈 캐시워크 정답 \t\t Count: 100\n"
     ]
    }
   ],
   "source": [
    "import os\n",
    "from dotenv import load_dotenv\n",
    "from tools.news_crawler import NaverCrawler\n",
    "\n",
    "load_dotenv()\n",
    "\n",
    "client_id = os.getenv('NAVER_CLIENT_ID')\n",
    "client_secret = os.getenv('NAVER_CLIENT_SECRET')\n",
    "endpoint = os.getenv('NAVER_API_ENDPOINT')\n",
    "\n",
    "crawler = NaverCrawler(client_id, client_secret, endpoint)\n",
    "\n",
    "articles = {}\n",
    "for keyword in keywords:\n",
    "    articles[keyword] = crawler.get_articles(keyword, 100, 'date')\n",
    "\n",
    "for keyword, article_list in articles.items():\n",
    "    print('Keyword: %s \\t\\t Count: %d' % (keyword, len(article_list)))"
   ]
  },
  {
   "cell_type": "code",
   "execution_count": 3,
   "metadata": {},
   "outputs": [
    {
     "name": "stdout",
     "output_type": "stream",
     "text": [
      "Keyword: 메이플 \t\t Count: 185\n",
      "Keyword: 맥도날드 감자튀김 \t\t Count: 101\n",
      "Keyword: 말라리아 \t\t Count: 81\n",
      "Keyword: 에오스블랙 \t\t Count: 38\n",
      "Keyword: 준틴스데이 \t\t Count: 79\n",
      "Keyword: 러브버그 해충 \t\t Count: 40\n",
      "Keyword: 태국 동성결혼 \t\t Count: 29\n",
      "Keyword: 엔비디아 \t\t Count: 1000\n",
      "Keyword: 리그오브레전드 \t\t Count: 59\n",
      "Keyword: 63빌딩 아쿠아플라넷 \t\t Count: 6\n",
      "Keyword: 코리아컵 \t\t Count: 815\n",
      "Keyword: 문재인 \t\t Count: 583\n",
      "Keyword: 라이엇 \t\t Count: 18\n",
      "Keyword: 강민구 \t\t Count: 321\n",
      "Keyword: 닌텐도 다이렉트 \t\t Count: 50\n",
      "Keyword: 목동 화재 \t\t Count: 243\n",
      "Keyword: 이정은 \t\t Count: 110\n",
      "Keyword: 신들린 연애 \t\t Count: 62\n",
      "Keyword: 손석희 \t\t Count: 56\n",
      "Keyword: 돈버는퀴즈 캐시워크 정답 \t\t Count: 178\n"
     ]
    }
   ],
   "source": [
    "from datetime import datetime\n",
    "import pytz\n",
    "\n",
    "date = datetime(2024, 6, 19, tzinfo=pytz.timezone('Asia/Seoul'))\n",
    "articles_by_date = {}\n",
    "\n",
    "articles = {}\n",
    "for keyword in keywords:\n",
    "    articles[keyword] = crawler.get_articles_since_date(keyword, date)\n",
    "\n",
    "for keyword, article_list in articles.items():\n",
    "    print('Keyword: %s \\t\\t Count: %d' % (keyword, len(article_list)))"
   ]
  },
  {
   "cell_type": "code",
   "execution_count": 9,
   "metadata": {},
   "outputs": [
    {
     "data": {
      "text/plain": [
       "[{'title': '<b>맥도날드</b>서 당분간 <b>감자튀김</b> 못 먹는다…“공급망 이슈”',\n",
       "  'originallink': 'https://www.etoday.co.kr/news/view/2371936',\n",
       "  'link': 'https://www.etoday.co.kr/news/view/2371936',\n",
       "  'description': '이투데이=김지영 기자 | <b>맥도날드</b>가 공급망 이슈로 당분간 <b>감자튀김</b>(후렌치후라이)을 제공하지 않기로 했다. <b>맥도날드</b>는 20일 홈페이지를 통해 이런 내용의 공지 사항을 게재했다. <b>맥도날드</b>는 &quot;예기치 못한 공급망 내... ',\n",
       "  'pubDate': 'Thu, 20 Jun 2024 13:38:00 +0900'},\n",
       " {'title': '<b>맥도날드</b>, 모든 지점서 <b>감자튀김</b> 판매 중단...&quot;재개 시점 미정&quot;',\n",
       "  'originallink': 'https://www.ajunews.com/view/20240620132900192',\n",
       "  'link': 'https://www.ajunews.com/view/20240620132900192',\n",
       "  'description': '한국<b>맥도날드</b> 측에 따르면, <b>감자튀김</b>은 이날 오전 10시 30분부터 전 지점에서 제공하지 않고 있다. 판매 재개 시점은 미정이다. 이에 따라 세트 메뉴 주문은 불가하고, 단품만 구매할 수 있다.',\n",
       "  'pubDate': 'Thu, 20 Jun 2024 13:36:00 +0900'},\n",
       " {'title': '&quot;당분간 <b>맥도날드 감자튀김</b> 안 팔아요&quot;…판매 중단 이유는',\n",
       "  'originallink': 'http://news.mt.co.kr/mtview.php?no=2024062013210145896',\n",
       "  'link': 'https://n.news.naver.com/mnews/article/008/0005053236?sid=101',\n",
       "  'description': '한국<b>맥도날드</b>가 20일부터 후렌치 후라이(<b>감자튀김</b>) 판매를 일시 중단한다. 한국<b>맥도날드</b>는 이날 공식 인스타그램 계정에서 &quot;예기치 못한 공급망 내 이슈로 인해 일시적으로 후렌치 후라이를 제공해 드릴 수 없게 됐다&quot;며... ',\n",
       "  'pubDate': 'Thu, 20 Jun 2024 13:35:00 +0900'},\n",
       " {'title': \"<b>맥도날드</b>에 '<b>감자튀김</b>' 없다…&quot;판매 일시 중단&quot; 무슨 일\",\n",
       "  'originallink': 'https://www.joongang.co.kr/article/25257725',\n",
       "  'link': 'https://n.news.naver.com/mnews/article/025/0003368077?sid=101',\n",
       "  'description': '한국<b>맥도날드</b>가 후렌치 후라이(<b>감자튀김</b>) 판매를 일시 중단한다. 한국<b>맥도날드</b>는 20일 공식 홈페이지를 통해 &quot;예기치 못한 공급망 내 이슈로 인해 일시적으로 후렌치후라이를 제공할 수 없게 됐다&quot;고 밝혔다. 이어 &quot;고객... ',\n",
       "  'pubDate': 'Thu, 20 Jun 2024 13:31:00 +0900'},\n",
       " {'title': '<b>맥도날드</b>, 당분간 <b>감자튀김</b> 못 먹는다…세트 메뉴 주문 불가능',\n",
       "  'originallink': 'http://www.topstarnews.net/news/articleView.html?idxno=15509073',\n",
       "  'link': 'http://www.topstarnews.net/news/articleView.html?idxno=15509073',\n",
       "  'description': '소식을 접한 네티즌들은 &quot;<b>감자튀김</b> 먹으려고 세트 시키는데&quot;, &quot;주문 자체가 막혔네&quot;, &quot;<b>맥도날드</b>에 <b>감자튀김</b>이 없다니&quot; 등의 댓글을 남겼다. 앞서 <b>맥도날드</b>는 2022년 2월에도 후렌치후라이 공급에 문제가 생긴 바 있다. 당시... ',\n",
       "  'pubDate': 'Thu, 20 Jun 2024 13:20:00 +0900'},\n",
       " {'title': '<b>맥도날드 감자튀김</b> 공급중단...세트메뉴 판매어쩌나',\n",
       "  'originallink': 'https://www.gukjenews.com/news/articleView.html?idxno=3024025',\n",
       "  'link': 'https://www.gukjenews.com/news/articleView.html?idxno=3024025',\n",
       "  'description': \"<b>맥도날드 감자튀김</b> 중단 (사진=맥도날드 홈페이지) 한국맥도날드가 후렌치 후라이(감자튀김) 판매를 일시 중단한다. 20일 한국맥도날드는 공식 홈페이지를 통해 '후렌치 후라이 일시 판매 중단의 건'이라는 공지문을... \",\n",
       "  'pubDate': 'Thu, 20 Jun 2024 13:10:00 +0900'},\n",
       " {'title': \"<b>맥도날드</b> '<b>감자튀김</b>' 일시 판매 중단… &quot;공급망 이슈&quot;\",\n",
       "  'originallink': 'https://www.newscj.com/news/articleView.html?idxno=3151445',\n",
       "  'link': 'https://www.newscj.com/news/articleView.html?idxno=3151445',\n",
       "  'description': '앞서 맥도날드는 2021년 8월과 2022년 2월에도 코로나19 영향으로 해상 운송이 불안정해지면서 감자 수급이 원활하지 못한 탓에 후렌치 후라이 판매를 일시 중단한 바 있다. <b>맥도날드</b>,<b>감자튀김</b>,판매 중단',\n",
       "  'pubDate': 'Thu, 20 Jun 2024 12:32:00 +0900'},\n",
       " {'title': '&quot;예기치 못한 공급망 이슈&quot; <b>맥도날드</b> 후렌치후라이 일시 판매 중단',\n",
       "  'originallink': 'https://www.newsis.com/view/NISX20240620_0002780303',\n",
       "  'link': 'https://n.news.naver.com/mnews/article/003/0012618250?sid=101',\n",
       "  'description': '20일 외식 업계에 따르면 한국<b>맥도날드</b>는 <b>감자튀김</b> 공급을 한동안 중단키로 했다. 한국<b>맥도날드</b> 공식 홈페이지 등에는 &quot;예기치 못한 공급망 내 이슈로 인해 일시적으로 후렌치 후라이를 제공해드릴 수 없게 됐다&quot;는 공지가... ',\n",
       "  'pubDate': 'Thu, 20 Jun 2024 11:59:00 +0900'},\n",
       " {'title': \"&quot;車처럼 '햄버거 조립' 아이디어…주문 뒤 받기까지 25초 걸리죠&quot;[CEO&amp;스토리...\",\n",
       "  'originallink': 'https://www.sedaily.com/NewsView/2DAIY4H3ZW',\n",
       "  'link': 'https://n.news.naver.com/mnews/article/011/0004355283?sid=101',\n",
       "  'description': '치킨·버거·<b>감자튀김</b>·음료 등 카테고리별로 나눈 4개 라인을 두고 직원들이 각자가 담당한 메뉴를 컨베이어... 도쿄 최대 번화가에 일본 <b>맥도날드</b>가 39년간 영업했던 자리다. 김 대표는 “팝업 때 주문 뒤 음식을... ',\n",
       "  'pubDate': 'Wed, 19 Jun 2024 16:07:00 +0900'},\n",
       " {'title': \"패티 속 이물질 논란, 이번에도 '<b>맥도날드</b>' 였나\",\n",
       "  'originallink': 'http://www.financialreview.co.kr/news/articleView.html?idxno=29288',\n",
       "  'link': 'http://www.financialreview.co.kr/news/articleView.html?idxno=29288',\n",
       "  'description': '<b>맥도날드</b>에서 불거지는 이물질 논란은 이번이 처음이 아니다. 지난해인 2023년만 하더라도 8월에는 <b>감자튀김</b>에서 사람의 체모로 추정되는 이물질이 발견되는가 하면, 1월에는 맥머핀에서 실타래가 나왔다는 제보... ',\n",
       "  'pubDate': 'Wed, 19 Jun 2024 09:52:00 +0900'}]"
      ]
     },
     "execution_count": 9,
     "metadata": {},
     "output_type": "execute_result"
    }
   ],
   "source": [
    "articles['맥도날드 감자튀김'][-10:]"
   ]
  },
  {
   "cell_type": "code",
   "execution_count": 4,
   "metadata": {},
   "outputs": [],
   "source": [
    "# 네이버 링크 없는 기사 제거\n",
    "\n",
    "condition = lambda x: x['originallink'] != x['link']\n",
    "\n",
    "for keyword, val in articles.items():\n",
    "    articles[keyword] = [x for x in val['items'] if condition(x)]"
   ]
  },
  {
   "cell_type": "code",
   "execution_count": 7,
   "metadata": {},
   "outputs": [
    {
     "data": {
      "text/plain": [
       "'Thu, 20 Jun 2024 21:24:00 +0900'"
      ]
     },
     "execution_count": 7,
     "metadata": {},
     "output_type": "execute_result"
    }
   ],
   "source": [
    "articles['강민구'][0]['pubDate']"
   ]
  },
  {
   "cell_type": "code",
   "execution_count": 8,
   "metadata": {},
   "outputs": [
    {
     "data": {
      "text/plain": [
       "datetime.datetime(2024, 6, 20, 21, 24, tzinfo=datetime.timezone(datetime.timedelta(seconds=32400)))"
      ]
     },
     "execution_count": 8,
     "metadata": {},
     "output_type": "execute_result"
    }
   ],
   "source": [
    "datetime.strptime(articles['강민구'][0]['pubDate'], '%a, %d %b %Y %H:%M:%S %z')"
   ]
  },
  {
   "cell_type": "code",
   "execution_count": 12,
   "metadata": {},
   "outputs": [
    {
     "name": "stdout",
     "output_type": "stream",
     "text": [
      "7 0\n"
     ]
    }
   ],
   "source": [
    "# 최근 1주일치 기사가 아니면 제거\n",
    "from datetime import datetime\n",
    "\n",
    "older_than_7_days = datetime(2024, 6, 13)\n",
    "younger_than_7_days = datetime(2024, 6, 20, 14)\n",
    "\n",
    "today = datetime.today()\n",
    "\n",
    "diff1 = abs((today - older_than_7_days).days)\n",
    "diff2 = abs((today - younger_than_7_days).days)\n",
    "\n",
    "print(diff1, diff2)\n",
    "\n",
    "\n",
    "\n",
    "\n"
   ]
  },
  {
   "cell_type": "code",
   "execution_count": 4,
   "metadata": {},
   "outputs": [],
   "source": [
    "# url 기반으로 article ID 파싱해서 추가\n",
    "\n",
    "for keyword, items in articles.items():\n",
    "    for item in items:\n",
    "        id = ''.join(item['link'].split('/')[-2:])\n",
    "        if '?' in id:\n",
    "            id = id.split('?')[0]\n",
    "        item['id'] = id"
   ]
  },
  {
   "cell_type": "code",
   "execution_count": 7,
   "metadata": {},
   "outputs": [
    {
     "name": "stderr",
     "output_type": "stream",
     "text": [
      "100%|██████████| 20/20 [07:29<00:00, 22.46s/it]\n"
     ]
    }
   ],
   "source": [
    "# Selenium으로 네이버 기사에서 제목, 내용 크롤링\n",
    "from tqdm import tqdm\n",
    "from selenium import webdriver\n",
    "from selenium.webdriver.chrome.options import Options\n",
    "from selenium.webdriver.common.by import By\n",
    "from selenium.webdriver.support.ui import WebDriverWait\n",
    "from selenium.webdriver.support import expected_conditions as EC\n",
    "\n",
    "options = Options()\n",
    "options.add_argument(\"--headless\")\n",
    "driver = webdriver.Chrome(options=options)\n",
    "\n",
    "for keyword, items in tqdm(articles.items()):\n",
    "    for item in items:\n",
    "        driver.get(item['link'])\n",
    "        WebDriverWait(driver, 100).until(EC.presence_of_element_located((By.CLASS_NAME, \"_article_content\")))\n",
    "        title = driver.find_element(By.XPATH, \"/html/head/title\").get_attribute(\"innerText\")\n",
    "        description = \" \".join([element.get_attribute(\"innerText\") for element in driver.find_elements(By.CLASS_NAME, \"_article_content\")])\n",
    "        item['title'] = title\n",
    "        item['description'] = description\n",
    "\n",
    "driver.close()"
   ]
  },
  {
   "cell_type": "code",
   "execution_count": 8,
   "metadata": {},
   "outputs": [
    {
     "name": "stdout",
     "output_type": "stream",
     "text": [
      "0 0\n"
     ]
    }
   ],
   "source": [
    "# null check\n",
    "title_null_cnt = 0\n",
    "desc_null_cnt = 0\n",
    "\n",
    "for keyword, items in articles.items():\n",
    "    for item in items:\n",
    "        if item['title'] == '':\n",
    "            title_null_cnt += 1\n",
    "        if item['description'] == '':\n",
    "            desc_null_cnt += 1\n",
    "print(title_null_cnt, desc_null_cnt)"
   ]
  },
  {
   "cell_type": "code",
   "execution_count": 9,
   "metadata": {},
   "outputs": [],
   "source": [
    "for keyword, items in articles.items():\n",
    "    for item in items:\n",
    "        if item['description'] == '':\n",
    "            print(item)"
   ]
  },
  {
   "cell_type": "code",
   "execution_count": 10,
   "metadata": {},
   "outputs": [],
   "source": [
    "from datetime import datetime\n",
    "import mysql.connector\n",
    "\n",
    "MYSQL_USER = os.getenv('MYSQL_USER')\n",
    "MYSQL_PWD =  os.getenv('MYSQL_PWD')\n",
    "\n",
    "conn = mysql.connector.connect(\n",
    "    host = 'localhost',\n",
    "    port = '3306',\n",
    "    user = MYSQL_USER,\n",
    "    password = MYSQL_PWD,\n",
    "    charset = 'utf8mb4'\n",
    ")\n",
    "\n",
    "cursor = conn.cursor()\n",
    "\n",
    "query = \"\"\"\n",
    "INSERT INTO news.articles (id, keyword, originallink, link, pubdate, title, description) VALUES (%s, %s, %s, %s, %s, %s, %s)\n",
    "ON DUPLICATE KEY UPDATE id = id;\n",
    "\"\"\"\n",
    "\n",
    "try:\n",
    "    for keyword, items in articles.items():\n",
    "        for item in items:\n",
    "            if item['originallink'] == item['link']:\n",
    "                continue\n",
    "            id = ''.join(item['link'].split('/')[-2:])\n",
    "            if '?' in id:\n",
    "                id = id.split('?')[0]\n",
    "            pubdatetime = datetime.strptime(item['pubDate'], '%a, %d %b %Y %H:%M:%S %z')\n",
    "            pubdate_str = pubdatetime.strftime(\"%Y-%m-%d %H:%M:%S\")\n",
    "            data = (id, keyword, item['originallink'], item['link'], pubdate_str, item['title'], item['description'])\n",
    "            cursor.execute(query, data)\n",
    "    conn.commit()\n",
    "except Exception as e:\n",
    "    print(e)\n",
    "finally:\n",
    "    conn.close()\n",
    "\n"
   ]
  },
  {
   "cell_type": "code",
   "execution_count": 11,
   "metadata": {},
   "outputs": [
    {
     "data": {
      "text/plain": [
       "'2024-06-19'"
      ]
     },
     "execution_count": 11,
     "metadata": {},
     "output_type": "execute_result"
    }
   ],
   "source": [
    "datetime.today().strftime('%Y-%m-%d')"
   ]
  },
  {
   "cell_type": "code",
   "execution_count": 12,
   "metadata": {},
   "outputs": [],
   "source": [
    "# MySQL에서 오늘자 기사 받아오기\n",
    "from datetime import datetime\n",
    "import mysql.connector\n",
    "import pymysql\n",
    "import pymysql.cursors\n",
    "\n",
    "MYSQL_USER = os.getenv('MYSQL_USER')\n",
    "MYSQL_PWD =  os.getenv('MYSQL_PWD')\n",
    "\n",
    "conn = pymysql.connect(\n",
    "    host = 'localhost',\n",
    "    port = 3306,\n",
    "    user = MYSQL_USER,\n",
    "    password = MYSQL_PWD,\n",
    "    charset = 'utf8mb4'\n",
    ")\n",
    "\n",
    "cursor = conn.cursor(pymysql.cursors.DictCursor)\n",
    "\n",
    "query = \"\"\"\n",
    "SELECT * from news.articles where DATE(date) = %s;\n",
    "\"\"\"\n",
    "\n",
    "try:\n",
    "    today = datetime.today().strftime('%Y-%m-%d')\n",
    "    data = (today,)\n",
    "    cursor.execute(query, data)\n",
    "    output = cursor.fetchall()\n",
    "except Exception as e:\n",
    "    print(e)\n",
    "finally:\n",
    "    conn.close()\n"
   ]
  },
  {
   "cell_type": "code",
   "execution_count": 13,
   "metadata": {},
   "outputs": [
    {
     "name": "stdout",
     "output_type": "stream",
     "text": [
      "934\n",
      "{'id': 10007849751, 'keyword': '역전검사', 'date': datetime.datetime(2024, 6, 19, 22, 21, 48), 'originallink': 'http://app.yonhapnews.co.kr/YNA/Basic/SNS/r.aspx?c=AKR20150911150700060&did=1195m', 'link': 'https://n.news.naver.com/mnews/article/001/0007849751?sid=102', 'pubdate': datetime.datetime(2015, 9, 11, 16, 32), 'title': '중고생 법정변론 대회…주장 서툴지만 열정은 법조인', 'description': '\\n\\n\\n의정부지법 축제 프로그램…16개팀 참가해 열띤 공방\\n\\n(의정부=연합뉴스) 김도윤 기자 = \"사적인 일로 사고 현장을 이탈해 뺑소니입니다.\" \"필요한 조치를 한 뒤 돌아오겠다고 약속했으니 뺑소니가 아닙니다.\"\\n\\n11일 법 문화 축제인 \\'청송제\\'(聽訟祭)의 주요 프로그램 가운데 하나로 학생 법정변론 경연대회가 열린 의정부지법 5호 법정.\\n\\n이관용 부장판사를 비롯한 법관 3명의 심사로 진행된 의정부 충의중 \\'역전검사\\'팀과 효자중 \\'효자\\'팀의 첫 대결은 처음부터 팽팽했다.\\n\\n피고인 A씨가 승용차를 운전하다 옆을 지나가는 자전거를 쳐 B군의 무릎을 다치게 했으나 급한 일이 있다며 인근 편의점 주인에게 사고 처리를 부탁한 뒤 현장을 이탈한 가상 사건이 공방의 주제다.\\n\\nA씨는 몇 시간 뒤 사고 현장으로 돌아왔다가 자신에게 욕한 것으로 오해한 나머지 만취한 C씨를 때려 다치게도 해 뺑소니, 사고 후 미조치, 상해 등 3가지 혐의로 기소됐다.\\n\\n역전검사팀은 첫 변론에서 \"피고인은 인적사항을 밝히지 않은데다 사고를 수습하지 않고 현장을 이탈했고 상해는 결과범인데 C씨가 더 많이 다쳤다\"며 3가지 혐의 모두에 유죄를 주장했다.\\n\\n이에 효자팀은 \"B군이 안전거리를 유지하지 않아 오히려 피고인이 처벌받게 됐다\"며 \"현장 조치 후 악의없이 현장을 이탈했고 상해는 정당방위였다\"며 무죄라고 반박했다.\\n\\n변론 도중 재판부가 \"현장 수습은 사고를 낸 운전자만 해야 하는가\" \"악의와 고의의 차이는 무엇인가\" 등을 질문하며 허점을 짚자 양팀에 당황한 기색이 흐르기도 했다.\\n\\n주장은 서툴렀지만 열정만큼은 이미 법조인이었다.\\n\\n양팀은 각각 3분씩 상대 주장에 대한 반대 논리를 펼쳤고 최후 변론까지 마쳤지만 선고는 없었다.\\n\\n첫 대결이 끝난 뒤 이관용 부장판사는 \"이 사건은 (경연대회를 위해) 2∼3개 사례를 혼합한 것이라 답이 없다\"며 \"검찰팀과 변호인팀이 사실을 기초로 논리를 만들어 유·무죄를 주장하는 것이 이 대회 취지\"라고 설명했다.\\n\\n이날 중등부 6개 팀이 같은 사건으로 대결했고 7호 법정에서는 고등부 8개 팀이 두 버스업체의 노선 중복에 대한 손해배상청구소송에 대해 원고와 피고를 맡아 변론을 펼쳤다.\\n\\n의정부지법이 2013년 이후 3년째로 개최한 이날 청송제에는 법정변론 경연 대회 외에 법원 견학, 법정 개방, 지역 주민과 함께하는 가훈 만들기, 비보이·풍물놀이 공연 등이 진행됐다.\\n\\n특히 \\'법원의 날\\' 4행시는 \\'법이란 사람들 사는 곳에 필요해∼\\' \\'원통해, 억울해, 법원이 필요해∼\\' \\'의사는 아픔 몸 치료해, 판사는 아픈 사건 치료해∼\\' \\'날씬해도 뚱뚱해도, 돈 있어도 돈 없어도 모두 법 앞에 평등해∼예\\'라고 랩 형태로 지은 초등학생이 최우수상을 차지해 눈길을 끌었다.\\n\\n의정부지법은 법원의 기능을 알리고 지역 주민이 법원을 더욱 가깝고 친근하게 느끼게 하고자 2013년부터 법 문화 축제를 열고 있다.\\n\\nkyoon@yna.co.kr\\n\\n▶ [현장영상] 일본 태풍 \\'아타우\\'에 통째로 떠내려가는 집\\n\\n▶ [오늘의 핫 화보] 오늘의 메이저리그 명장면\\n\\n<저작권자(c) 연합뉴스, 무단 전재-재배포 금지>\\n\\n'}\n"
     ]
    }
   ],
   "source": [
    "print(len(output))\n",
    "print(output[0])"
   ]
  },
  {
   "cell_type": "code",
   "execution_count": 14,
   "metadata": {},
   "outputs": [],
   "source": [
    "from opensearchpy import OpenSearch\n",
    "from opensearch_dsl import Search\n",
    "\n",
    "host = 'localhost'\n",
    "port = 9200\n",
    "\n",
    "# Create the client with SSL/TLS enabled, but hostname verification disabled.\n",
    "client = OpenSearch(\n",
    "    hosts = [{'host': host, 'port': port}],\n",
    ")"
   ]
  },
  {
   "cell_type": "code",
   "execution_count": 15,
   "metadata": {},
   "outputs": [],
   "source": [
    "# 기사 생성시점에 따라 각각 다른 데일리 인덱스에 저장\n",
    "\n",
    "\n",
    "index_prefix = 'articles-'\n",
    "index_body = {\n",
    "  'settings': {\n",
    "    'index': {\n",
    "      'number_of_shards': 1\n",
    "    }\n",
    "  }\n",
    "}\n",
    "\n",
    "for obj in output:\n",
    "    pubdate = obj['pubdate'].strftime('%Y.%m.%d')\n",
    "    index_name = ''.join([index_prefix, pubdate])\n",
    "    doc = {\n",
    "        'keyword': obj['keyword'],\n",
    "        'title': obj['title'],\n",
    "        'description': obj['description'],\n",
    "        'date': obj['date'].astimezone().strftime(\"%Y%m%dT%H%M%S%z\"),\n",
    "        'pubdate': obj['pubdate'].astimezone().strftime(\"%Y%m%dT%H%M%S%z\"),\n",
    "        'originallink': obj['originallink'],\n",
    "        'link': obj['link']\n",
    "    }\n",
    "    if not client.indices.exists(index_name):\n",
    "        client.indices.create(index_name, body=index_body)\n",
    "    \n",
    "    client.index(index = index_name, body = doc, id = obj['id'])\n",
    "    \n",
    "    \n",
    "\n"
   ]
  },
  {
   "cell_type": "code",
   "execution_count": null,
   "metadata": {},
   "outputs": [],
   "source": [
    "# 기사 생성시점에 따라 각각 다른 데일리 인덱스에 저장\n",
    "\n",
    "\n",
    "index_prefix = 'articles-'\n",
    "index_body = {\n",
    "  'settings': {\n",
    "    'index': {\n",
    "      'number_of_shards': 1\n",
    "    }\n",
    "  }\n",
    "}\n",
    "\n",
    "for obj in output:\n",
    "    pubdate = obj['pubdate'].strftime('%Y.%m.%d')\n",
    "    index_name = ''.join([index_prefix, pubdate])\n",
    "    doc = {\n",
    "        'keyword': obj['keyword'],\n",
    "        'title': obj['title'],\n",
    "        'description': obj['description'],\n",
    "        'date': obj['date'].astimezone().strftime(\"%Y%m%dT%H%M%S%z\"),\n",
    "        'pubdate': obj['pubdate'].astimezone().strftime(\"%Y%m%dT%H%M%S%z\"),\n",
    "        'originallink': obj['originallink'],\n",
    "        'link': obj['link']\n",
    "    }\n",
    "    if not client.indices.exists(index_name):\n",
    "        client.indices.create(index_name, body=index_body)\n",
    "    \n",
    "    client.index(index = index_name, body = doc, id = obj['id'])\n",
    "    \n",
    "    \n",
    "\n"
   ]
  },
  {
   "cell_type": "code",
   "execution_count": 16,
   "metadata": {},
   "outputs": [
    {
     "data": {
      "text/plain": [
       "False"
      ]
     },
     "execution_count": 16,
     "metadata": {},
     "output_type": "execute_result"
    }
   ],
   "source": [
    "client.indices.exists(\"index=\")"
   ]
  },
  {
   "cell_type": "code",
   "execution_count": 17,
   "metadata": {},
   "outputs": [
    {
     "data": {
      "text/plain": [
       "'20190323T213446-04:00'"
      ]
     },
     "execution_count": 17,
     "metadata": {},
     "output_type": "execute_result"
    }
   ],
   "source": [
    "\"yyyyMMddTHHmmssZ\"\n",
    "\"20190323T213446-04:00\""
   ]
  },
  {
   "cell_type": "code",
   "execution_count": 18,
   "metadata": {},
   "outputs": [
    {
     "data": {
      "text/plain": [
       "\"'20150911T1632\""
      ]
     },
     "execution_count": 18,
     "metadata": {},
     "output_type": "execute_result"
    }
   ],
   "source": [
    "output[0]['pubdate'].strftime(\"'%Y%m%dT%H%M%Z\")"
   ]
  },
  {
   "cell_type": "code",
   "execution_count": 19,
   "metadata": {},
   "outputs": [
    {
     "data": {
      "text/plain": [
       "'20150911T163200+0900'"
      ]
     },
     "execution_count": 19,
     "metadata": {},
     "output_type": "execute_result"
    }
   ],
   "source": [
    "from datetime import timezone\n",
    "output[0]['pubdate'].astimezone().strftime(\"%Y%m%dT%H%M%S%z\")\n"
   ]
  },
  {
   "cell_type": "code",
   "execution_count": null,
   "metadata": {},
   "outputs": [],
   "source": []
  }
 ],
 "metadata": {
  "kernelspec": {
   "display_name": "news",
   "language": "python",
   "name": "python3"
  },
  "language_info": {
   "codemirror_mode": {
    "name": "ipython",
    "version": 3
   },
   "file_extension": ".py",
   "mimetype": "text/x-python",
   "name": "python",
   "nbconvert_exporter": "python",
   "pygments_lexer": "ipython3",
   "version": "3.12.3"
  }
 },
 "nbformat": 4,
 "nbformat_minor": 2
}
